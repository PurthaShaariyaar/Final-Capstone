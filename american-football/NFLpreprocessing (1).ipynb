{
  "cells": [
    {
      "cell_type": "markdown",
      "metadata": {
        "id": "YT-WSHW_33Hl"
      },
      "source": [
        "# Basic Data PreProcessing"
      ]
    },
    {
      "cell_type": "code",
      "execution_count": 1,
      "metadata": {
        "id": "oGWQXCui33Hr"
      },
      "outputs": [],
      "source": [
        "import pandas as pd\n",
        "\n",
        "# Load the datasets\n",
        "nba_data = pd.read_csv('nfl_data.csv')\n",
        "player_mvp_stats = pd.read_csv('nfl_player_data.csv')\n"
      ]
    },
    {
      "cell_type": "code",
      "execution_count": 2,
      "metadata": {
        "id": "jdFDCkpM33Hu"
      },
      "outputs": [],
      "source": [
        "team_mapping = {\n",
        "    'ARI': 'ARI', 'ATL': 'ATL', 'BAL': 'BAL', 'BUF': 'BUF', 'CAR': 'CAR',\n",
        "    'CHI': 'CHI', 'CIN': 'CIN', 'CLE': 'CLE', 'DAL': 'DAL', 'DEN': 'DEN',\n",
        "    'DET': 'DET', 'GB': 'GB', 'HOU': 'HOU', 'IND': 'IND', 'JAX': 'JAX',\n",
        "    'KC': 'KC', 'LV': 'LV', 'LAC': 'LAC', 'LAR': 'LAR', 'MIA': 'MIA',\n",
        "    'MIN': 'MIN', 'NE': 'NE', 'NO': 'NO', 'NYG': 'NYG', 'NYJ': 'NYJ',\n",
        "    'PHI': 'PHI', 'PIT': 'PIT', 'SEA': 'SEA', 'SF': 'SF', 'TB': 'TB',\n",
        "    'TEN': 'TEN', 'WAS': 'WAS'\n",
        "}\n",
        "\n"
      ]
    },
    {
      "cell_type": "code",
      "execution_count": 3,
      "metadata": {
        "id": "VxSCBRiJ33Hv"
      },
      "outputs": [],
      "source": [
        "player_mvp_stats['Tm'] = player_mvp_stats['Tm'].map(team_mapping)\n"
      ]
    },
    {
      "cell_type": "code",
      "execution_count": 4,
      "metadata": {
        "id": "E3yd644O33Hw"
      },
      "outputs": [],
      "source": [
        "combined_data = pd.merge(nba_data, player_mvp_stats, left_on='team', right_on='Tm', how='inner')\n"
      ]
    },
    {
      "cell_type": "code",
      "execution_count": 5,
      "metadata": {
        "colab": {
          "base_uri": "https://localhost:8080/",
          "height": 360
        },
        "id": "6yzNBXY133Hx",
        "outputId": "ecd11feb-52f6-42a0-f06a-311f6d0ff518"
      },
      "outputs": [
        {
          "data": {
            "text/html": [
              "<div>\n",
              "<style scoped>\n",
              "    .dataframe tbody tr th:only-of-type {\n",
              "        vertical-align: middle;\n",
              "    }\n",
              "\n",
              "    .dataframe tbody tr th {\n",
              "        vertical-align: top;\n",
              "    }\n",
              "\n",
              "    .dataframe thead th {\n",
              "        text-align: right;\n",
              "    }\n",
              "</style>\n",
              "<table border=\"1\" class=\"dataframe\">\n",
              "  <thead>\n",
              "    <tr style=\"text-align: right;\">\n",
              "      <th></th>\n",
              "      <th>date</th>\n",
              "      <th>team</th>\n",
              "      <th>team_opp</th>\n",
              "      <th>points_scored</th>\n",
              "      <th>points_scored_opp</th>\n",
              "      <th>yards_gained</th>\n",
              "      <th>yards_gained_opp</th>\n",
              "      <th>turnovers</th>\n",
              "      <th>turnovers_opp</th>\n",
              "      <th>won</th>\n",
              "      <th>...</th>\n",
              "      <th>Pass Yds</th>\n",
              "      <th>Pass TD</th>\n",
              "      <th>Pass Int</th>\n",
              "      <th>Rush Att</th>\n",
              "      <th>Rush Yds</th>\n",
              "      <th>Rush TD</th>\n",
              "      <th>Receptions</th>\n",
              "      <th>Rec Yds</th>\n",
              "      <th>Rec TD</th>\n",
              "      <th>Game Date</th>\n",
              "    </tr>\n",
              "  </thead>\n",
              "  <tbody>\n",
              "    <tr>\n",
              "      <th>0</th>\n",
              "      <td>2020-09-14</td>\n",
              "      <td>NO</td>\n",
              "      <td>TB</td>\n",
              "      <td>28</td>\n",
              "      <td>41</td>\n",
              "      <td>557</td>\n",
              "      <td>187</td>\n",
              "      <td>0</td>\n",
              "      <td>4</td>\n",
              "      <td>False</td>\n",
              "      <td>...</td>\n",
              "      <td>370</td>\n",
              "      <td>2</td>\n",
              "      <td>1</td>\n",
              "      <td>0</td>\n",
              "      <td>0</td>\n",
              "      <td>0</td>\n",
              "      <td>0</td>\n",
              "      <td>0</td>\n",
              "      <td>0</td>\n",
              "      <td>9/9/2019</td>\n",
              "    </tr>\n",
              "    <tr>\n",
              "      <th>1</th>\n",
              "      <td>2020-09-14</td>\n",
              "      <td>NO</td>\n",
              "      <td>TB</td>\n",
              "      <td>28</td>\n",
              "      <td>41</td>\n",
              "      <td>557</td>\n",
              "      <td>187</td>\n",
              "      <td>0</td>\n",
              "      <td>4</td>\n",
              "      <td>False</td>\n",
              "      <td>...</td>\n",
              "      <td>0</td>\n",
              "      <td>0</td>\n",
              "      <td>0</td>\n",
              "      <td>13</td>\n",
              "      <td>97</td>\n",
              "      <td>0</td>\n",
              "      <td>7</td>\n",
              "      <td>72</td>\n",
              "      <td>0</td>\n",
              "      <td>9/9/2019</td>\n",
              "    </tr>\n",
              "    <tr>\n",
              "      <th>2</th>\n",
              "      <td>2020-09-14</td>\n",
              "      <td>NO</td>\n",
              "      <td>TB</td>\n",
              "      <td>28</td>\n",
              "      <td>41</td>\n",
              "      <td>557</td>\n",
              "      <td>187</td>\n",
              "      <td>0</td>\n",
              "      <td>4</td>\n",
              "      <td>False</td>\n",
              "      <td>...</td>\n",
              "      <td>0</td>\n",
              "      <td>0</td>\n",
              "      <td>0</td>\n",
              "      <td>6</td>\n",
              "      <td>43</td>\n",
              "      <td>1</td>\n",
              "      <td>2</td>\n",
              "      <td>4</td>\n",
              "      <td>0</td>\n",
              "      <td>9/9/2019</td>\n",
              "    </tr>\n",
              "    <tr>\n",
              "      <th>3</th>\n",
              "      <td>2020-09-14</td>\n",
              "      <td>NO</td>\n",
              "      <td>TB</td>\n",
              "      <td>28</td>\n",
              "      <td>41</td>\n",
              "      <td>557</td>\n",
              "      <td>187</td>\n",
              "      <td>0</td>\n",
              "      <td>4</td>\n",
              "      <td>False</td>\n",
              "      <td>...</td>\n",
              "      <td>0</td>\n",
              "      <td>0</td>\n",
              "      <td>0</td>\n",
              "      <td>2</td>\n",
              "      <td>8</td>\n",
              "      <td>0</td>\n",
              "      <td>1</td>\n",
              "      <td>9</td>\n",
              "      <td>1</td>\n",
              "      <td>9/9/2019</td>\n",
              "    </tr>\n",
              "    <tr>\n",
              "      <th>4</th>\n",
              "      <td>2020-09-14</td>\n",
              "      <td>NO</td>\n",
              "      <td>TB</td>\n",
              "      <td>28</td>\n",
              "      <td>41</td>\n",
              "      <td>557</td>\n",
              "      <td>187</td>\n",
              "      <td>0</td>\n",
              "      <td>4</td>\n",
              "      <td>False</td>\n",
              "      <td>...</td>\n",
              "      <td>0</td>\n",
              "      <td>0</td>\n",
              "      <td>0</td>\n",
              "      <td>0</td>\n",
              "      <td>0</td>\n",
              "      <td>0</td>\n",
              "      <td>10</td>\n",
              "      <td>123</td>\n",
              "      <td>0</td>\n",
              "      <td>9/9/2019</td>\n",
              "    </tr>\n",
              "  </tbody>\n",
              "</table>\n",
              "<p>5 rows × 25 columns</p>\n",
              "</div>"
            ],
            "text/plain": [
              "         date team team_opp  points_scored  points_scored_opp  yards_gained  \\\n",
              "0  2020-09-14   NO       TB             28                 41           557   \n",
              "1  2020-09-14   NO       TB             28                 41           557   \n",
              "2  2020-09-14   NO       TB             28                 41           557   \n",
              "3  2020-09-14   NO       TB             28                 41           557   \n",
              "4  2020-09-14   NO       TB             28                 41           557   \n",
              "\n",
              "   yards_gained_opp  turnovers  turnovers_opp    won  ... Pass Yds Pass TD  \\\n",
              "0               187          0              4  False  ...      370       2   \n",
              "1               187          0              4  False  ...        0       0   \n",
              "2               187          0              4  False  ...        0       0   \n",
              "3               187          0              4  False  ...        0       0   \n",
              "4               187          0              4  False  ...        0       0   \n",
              "\n",
              "  Pass Int  Rush Att  Rush Yds  Rush TD  Receptions  Rec Yds  Rec TD  \\\n",
              "0        1         0         0        0           0        0       0   \n",
              "1        0        13        97        0           7       72       0   \n",
              "2        0         6        43        1           2        4       0   \n",
              "3        0         2         8        0           1        9       1   \n",
              "4        0         0         0        0          10      123       0   \n",
              "\n",
              "   Game Date  \n",
              "0   9/9/2019  \n",
              "1   9/9/2019  \n",
              "2   9/9/2019  \n",
              "3   9/9/2019  \n",
              "4   9/9/2019  \n",
              "\n",
              "[5 rows x 25 columns]"
            ]
          },
          "execution_count": 5,
          "metadata": {},
          "output_type": "execute_result"
        }
      ],
      "source": [
        "combined_data.head()\n"
      ]
    },
    {
      "cell_type": "code",
      "execution_count": 6,
      "metadata": {
        "colab": {
          "base_uri": "https://localhost:8080/"
        },
        "id": "et734_MV33Hy",
        "outputId": "dce6fc6e-b6e3-49b1-b76a-162d15d396dd"
      },
      "outputs": [
        {
          "name": "stdout",
          "output_type": "stream",
          "text": [
            "                 Player   Tm\n",
            "0            Drew Brees   NO\n",
            "1          Alvin Kamara   NO\n",
            "2       Latavius Murray   NO\n",
            "3           Taysom Hill   NO\n",
            "4        Michael Thomas   NO\n",
            "...                 ...  ...\n",
            "158538      Tyler Kroft  NYJ\n",
            "158539       Jeff Smith  NYJ\n",
            "158540      Denzel Mims  NYJ\n",
            "158541       Ty Johnson  NYJ\n",
            "158542     Kenny Yeboah  NYJ\n",
            "\n",
            "[158543 rows x 2 columns]\n"
          ]
        }
      ],
      "source": [
        "# Select and display only the 'Player' and 'Tm' columns\n",
        "player_and_team_data = combined_data[['Player', 'Tm']]\n",
        "print(player_and_team_data)\n"
      ]
    },
    {
      "cell_type": "code",
      "execution_count": 7,
      "metadata": {
        "colab": {
          "base_uri": "https://localhost:8080/"
        },
        "id": "_SGDYro-33H0",
        "outputId": "51a95b79-a611-4ebd-8c28-e17743fb00e1"
      },
      "outputs": [
        {
          "name": "stdout",
          "output_type": "stream",
          "text": [
            "       team team_opp\n",
            "0        NO       TB\n",
            "1        NO       TB\n",
            "2        NO       TB\n",
            "3        NO       TB\n",
            "4        NO       TB\n",
            "...     ...      ...\n",
            "158538  NYJ      TEN\n",
            "158539  NYJ      TEN\n",
            "158540  NYJ      TEN\n",
            "158541  NYJ      TEN\n",
            "158542  NYJ      TEN\n",
            "\n",
            "[158543 rows x 2 columns]\n"
          ]
        }
      ],
      "source": [
        "# Select and display only the 'team' and 'team_opp' columns\n",
        "team_and_team_opp_data = combined_data[['team', 'team_opp']]\n",
        "print(team_and_team_opp_data)\n"
      ]
    },
    {
      "cell_type": "markdown",
      "metadata": {
        "id": "EabkTGBF33H1"
      },
      "source": [
        "# Adding Weights"
      ]
    },
    {
      "cell_type": "code",
      "execution_count": 8,
      "metadata": {
        "colab": {
          "base_uri": "https://localhost:8080/"
        },
        "id": "5crRZe3933H1",
        "outputId": "f234e68c-8057-4b3a-ab05-17d6aba3e681"
      },
      "outputs": [
        {
          "name": "stdout",
          "output_type": "stream",
          "text": [
            "['Drew Brees' 'Alvin Kamara' 'Latavius Murray' 'Taysom Hill'\n",
            " 'Michael Thomas' 'Ted Ginn Jr.' 'Keith Kirkwood' 'Zach Line'\n",
            " 'Deonte Harris' 'Jared Cook' \"Tre'Quan Smith\" 'Josh Hill'\n",
            " 'Teddy Bridgewater' 'Austin Carr' \"Lil'Jordan Humphrey\" 'Dan Arnold'\n",
            " 'Zach Zenner' 'Dwayne Washington' 'Krishawn Hogan' 'Jason Vander Laan'\n",
            " 'Justin Hardee' 'Ricky Ortiz' 'Adam Trautman' 'Bennie Fowler'\n",
            " 'Michael Burton' 'Emmanuel Sanders' 'Ty Montgomery' 'Marquez Callaway'\n",
            " 'Garrett Griffin' 'Juwan Johnson' 'Tommylee Lewis' 'Jameis Winston'\n",
            " 'Tony Jones' 'Chris Hogan' 'Alex Armah' 'Kenny Stills' 'Devine Ozigbo'\n",
            " 'Kevin White' 'Trevor Siemian' 'Mark Ingram' 'Nick Vannett'\n",
            " 'Adam Prentice' 'Blake Gillikin' 'Ethan Wolf' 'Easop Winston' 'Ian Book'\n",
            " 'Gus Edwards' 'Justice Hill' 'Marquise Brown' 'Mark Andrews'\n",
            " 'Willie Snead' 'Hayden Hurst' 'Nick Boyle' 'Seth Roberts' 'Miles Boykin'\n",
            " 'Patrick Ricard' 'Lamar Jackson' 'Robert Griffin III' 'Anthony Levine'\n",
            " 'Chris Moore' 'Sam Koch' \"De'Anthony Thomas\" 'Trace McSorley'\n",
            " 'Jaleel Scott' 'J.K. Dobbins' 'James Proche' 'Devin Duvernay'\n",
            " 'Dez Bryant' 'Matt Skura' 'Luke Willson' 'Sean Culkin' 'Eric Tomlinson'\n",
            " 'Tyler Huntley' 'Josh Oliver' \"Ty'Son Williams\" 'Trenton Cannon'\n",
            " 'Sammy Watkins' 'Tylan Wallace' 'Devonta Freeman' \"Le'Veon Bell\"\n",
            " 'Rashod Bateman' 'Nate McCrary' 'Tony Poljan' 'Josh Johnson'\n",
            " 'Amari Cooper' 'Randall Cobb' 'Blake Jarwin' 'Jason Witten'\n",
            " 'Tavon Austin' 'Jamize Olawale' 'Dak Prescott' 'Ezekiel Elliott'\n",
            " 'Tony Pollard' 'Michael Gallup' 'Dalton Schultz' 'Devin Smith'\n",
            " 'Cedrick Wilson Jr.' 'Ventell Bryant' 'Blake Bell' 'CeeDee Lamb'\n",
            " 'Noah Brown' 'Darian Thompson' 'C.J. Goodwin' 'Chris Jones' 'Andy Dalton'\n",
            " 'Sean McKeon' 'Malik Turner' 'Rico Dowdle' 'Ben DiNucci'\n",
            " 'Garrett Gilbert' 'Jeremy Sprinkle' 'Corey Clement' 'Simi Fehoko'\n",
            " 'Nick Ralston' 'Cooper Rush' 'Ian Bunting' 'JaQuan Hardy'\n",
            " 'Terence Steele' 'Ito Smith' 'Bryan Anger' 'Damion Willis'\n",
            " 'Alex Erickson' 'Tyler Eifert' 'Giovani Bernard' 'Joe Mixon' 'Tyler Boyd'\n",
            " 'John Ross' 'C.J. Uzomah' 'Pharoh Cooper' 'Drew Sample' 'Samaje Perine'\n",
            " 'Auden Tate' 'Cethan Carter' 'Stanley Morgan Jr.' 'Trayveon Williams'\n",
            " 'Ryan Finley' 'Mason Schreck' 'Trenton Irwin' 'A.J. Green' 'Joe Burrow'\n",
            " 'Tee Higgins' 'Mike Thomas' 'Shawn Williams' 'Brandon Allen'\n",
            " 'Mitchell Wilcox' \"Ja'Marr Chase\" 'Chris Evans' 'Trent Taylor'\n",
            " 'Ryan Fitzpatrick' 'Josh Rosen' \"Nick O'Leary\" 'Durham Smythe'\n",
            " 'Chandler Cox' 'DeVante Parker' 'Mike Gesicki' 'Preston Williams'\n",
            " 'Allen Hurns' 'Jakeem Grant' 'Kalen Ballage' 'Kenyan Drake'\n",
            " 'Albert Wilson' 'Mark Walton' 'Isaiah Ford' 'Matt Haack' 'Michael Deiter'\n",
            " 'Clive Walford' 'Patrick Laird' 'Myles Gaskin' 'Gary Jennings Jr'\n",
            " 'Jason Sanders' 'Mack Hollins' \"De'Lance Turner\" 'Christian Wilkins'\n",
            " 'Deon Lacey' 'Matt Breida' 'Jordan Howard' 'Adam Shaheen'\n",
            " 'Lynn Bowden Jr.' 'Clayton Fejedelem' 'Tua Tagovailoa' 'Malcolm Perry'\n",
            " 'Salvon Ahmed' 'Kirk Merritt' 'Chris Myarick' 'DeAndre Washington'\n",
            " 'Antonio Callaway' 'Malcolm Brown' 'Hunter Long' 'Jacoby Brissett'\n",
            " 'Jaylen Waddle' 'Will Fuller' 'Duke Johnson' 'Phillip Lindsay'\n",
            " 'Michael Palardy' 'Mitchell Trubisky' 'Mike Davis' 'David Montgomery'\n",
            " 'Allen Robinson' 'Tarik Cohen' 'Taylor Gabriel' 'Anthony Miller'\n",
            " 'Javon Wims' 'Cordarrelle Patterson' 'Ben Braunecker' 'Bradley Sowell'\n",
            " 'Trey Burton' 'J.P. Holtz' 'Chase Daniel' 'Ryan Nall' 'Jesper Horsted'\n",
            " 'Riley Ridley' 'Eric Saubert' 'Darnell Mooney' 'Jimmy Graham' 'Cole Kmet'\n",
            " 'Demetrius Harris' 'Bobby Massie' 'Nick Foles' 'Barkevious Mingo'\n",
            " 'Artavis Pierce' 'Lamar Miller' 'Tyler Bray' 'DeAndre Carter'\n",
            " 'Justin Fields' 'Jesse James' 'Khalil Herbert' 'Damiere Byrd'\n",
            " 'Marquise Goodwin' 'Damien Williams' 'Isaiah Coulter' 'Rodney Adams'\n",
            " 'Nsimba Webster' 'Dazz Newsome' 'Matt Ryan' 'Austin Hooper'\n",
            " 'Calvin Ridley' 'Mohamed Sanu' 'Justin Hardy' 'Luke Stocker'\n",
            " 'Russell Gage' 'Keith Smith' 'Jaeden Graham' 'Julio Jones'\n",
            " 'Kenjon Barner' 'Kaleb McGary' 'Olamide Zaccheaus' 'Matt Schaub'\n",
            " 'Brian Hill' 'Christian Blake' 'Qadree Ollison' 'Carson Meier'\n",
            " 'Ty Sambrailo' 'Todd Gurley' 'Sharrod Neasman' 'Brandon Powell'\n",
            " 'Tony Brooks-James' 'Laquon Treadwell' 'Lee Smith' 'Tajae Sharpe'\n",
            " 'Parker Hesse' 'Kyle Pitts' 'Wayne Gallman' 'Feleipe Franks'\n",
            " 'Frank Darby' 'Marvin Hall' 'Carlos Hyde' 'Deshaun Watson'\n",
            " 'DeAndre Hopkins' 'Jordan Akins' 'Darren Fells' 'Keke Coutee'\n",
            " 'Cullen Gillaspia' 'Buddy Howell' 'Steven Mitchell' 'A.J. McCarron'\n",
            " 'Jordan Thomas' 'Taiwan Jones' 'Justin Reid' 'David Johnson'\n",
            " 'Brandin Cooks' 'C.J. Prosise' 'Pharaoh Brown' 'Scottie Phillips'\n",
            " 'Kahale Warring' 'Chad Hansen' 'Charlie Heck' 'Max Scharping'\n",
            " 'Antony Auclair' 'Tyrod Taylor' 'Danny Amendola' 'Chris Conley'\n",
            " 'Nico Collins' 'Rex Burkhead' 'Andre Roberts' 'Davis Mills'\n",
            " 'Brevin Jordan' 'Royce Freeman' 'Jaylen Samuels' 'Davion Davis'\n",
            " 'Phillip Dorsett' 'Jordan Veasy' 'Jalen Camp' 'Paul Quessenberry'\n",
            " 'Tremon Smith' 'Kyler Murray' 'Christian Kirk' 'Chase Edmonds'\n",
            " 'Trent Sherfield' 'Maxx Williams' 'Charles Clay' 'Larry Fitzgerald'\n",
            " 'KeeSean Johnson' 'Michael Crabtree' 'Andy Isabella' 'Darrell Daniels'\n",
            " 'Brett Hundley' 'Alfred Morris' 'Andy Lee' 'Chris Streveler'\n",
            " 'Evan Baylis' 'Jonathan Ward' 'D.J. Foster' 'Seth Devalve' 'Zeke Turner'\n",
            " 'James Conner' 'Rondale Moore' 'Antoine Wesley' 'Colt McCoy'\n",
            " 'Ross Travis' 'Eno Benjamin' 'Zach Ertz' 'Greg Dortch' 'David Wells'\n",
            " 'Chris Banjo' 'Josh Allen' 'Devin Singletary' 'Frank Gore' 'Cole Beasley'\n",
            " 'Tommy Sweeney' 'Zay Jones' 'John Brown' 'Dawson Knox' 'Patrick DiMarco'\n",
            " 'Robert Foster' 'Isaiah McKenzie' 'T.J. Yeldon' 'Matt Barkley'\n",
            " 'Duke Williams' 'Tyler Kroft' 'Dion Dawkins' 'Senorise Perry'\n",
            " 'Corey Bojorquez' 'Zack Moss' 'Stefon Diggs' 'Gabriel Davis'\n",
            " 'Reggie Gilliam' 'Jake Kumerow' 'Jaquan Johnson' 'Siran Neal'\n",
            " 'Nate Becker' 'Antonio Williams' 'Davis Webb' 'Marquez Stevenson'\n",
            " 'Isaiah Hodgins' 'Tommy Doyle' 'Patrick Mahomes' 'Matt Moore'\n",
            " 'LeSean McCoy' 'Byron Pringle' 'Demarcus Robinson' 'Tyreek Hill'\n",
            " 'Travis Kelce' 'Anthony Sherman' 'Darwin Thompson' 'Mecole Hardman'\n",
            " 'Darrel Williams' 'Deon Yelder' 'Dustin Colquitt' 'Gehrig Dieter'\n",
            " 'Spencer Ware' 'Clyde Edwards-Helaire' 'Nick Keizer' 'Eric Fisher'\n",
            " 'Marcus Kemp' 'Ricky Seals-Jones' 'Chad Henne' 'Tommy Townsend'\n",
            " 'Mike Remmers' 'Jerick McKinnon' 'Noah Gray' 'Joe Fortson' 'Josh Gordon'\n",
            " 'Derrick Gore' 'Daurice Fountain' 'Nakia Griffin-Stewart'\n",
            " 'Nick Allegretti' 'Justin Jackson' 'Derek Watt' 'Keenan Allen'\n",
            " 'Hunter Henry' 'Mike Williams' 'Travis Benjamin' 'Dontrelle Inman'\n",
            " 'Virgil Green' 'Philip Rivers' 'Austin Ekeler' 'Geremy Davis'\n",
            " 'Lance Kendricks' 'Troymaine Pope' 'Andre Patton' 'Melvin Gordon'\n",
            " 'Jason Moore' 'Jalen Guyton' 'Joshua Kelley' 'K.J. Hill'\n",
            " 'Stephen Anderson' 'Gabe Nabers' 'Joe Reed' 'Justin Herbert'\n",
            " 'Tyron Johnson' 'Donald Parham' 'Easton Stick' 'Ty Long' 'Matt Sokol'\n",
            " 'Larry Rountree' 'Josh Palmer' 'Tevaughn Campbell' \"Tre' McKitty\"\n",
            " 'Darius Bradwell' 'Maurice Ffrench' 'Michael Bandy' 'Hunter Kampmoyer'\n",
            " 'Matthew Stafford' 'Kerryon Johnson' 'Marvin Jones' 'T.J. Hockenson'\n",
            " 'Kenny Golladay' 'J.D. McKissic' 'Nick Bawden' 'C.J. Anderson'\n",
            " 'Ty Johnson' 'Logan Thomas' 'Chris Lacy' 'Tom Kennedy' 'Jamal Agnew'\n",
            " 'Tra Carson' 'Paul Perkins' 'Jeff Driskel' 'Bo Scarbrough' 'Isaac Nauta'\n",
            " 'David Blough' 'Wes Hills' 'Travis Fulgham' 'Adrian Peterson'\n",
            " \"D'Andre Swift\" 'Quintez Cephus' 'Jason Cabinda' 'Jonathan Williams'\n",
            " 'Hunter Bryant' 'C.J. Moore' 'Jared Goff' 'Jamaal Williams'\n",
            " 'Kalif Raymond' 'Amon-Ra St. Brown' 'Tyrell Williams' 'Trinity Benson'\n",
            " 'KhaDarel Hodge' 'Geronimo Allison' 'Brock Wright' 'Jack Fox'\n",
            " 'Bobby Price' 'Godwin Igwebuike' 'Jermar Jefferson' 'Tim Boyle'\n",
            " 'Josh Reynolds' 'Craig Reynolds' 'Shane Zylstra' 'Taylor Decker'\n",
            " 'Matt Nelson' 'Jared Pinkney' 'Jarius Wright' 'Ian Thomas' 'Cam Newton'\n",
            " 'Christian McCaffrey' 'D.J. Moore' 'Greg Olsen' 'Curtis Samuel'\n",
            " 'Chris Manhertz' 'Reggie Bonnafon' 'Kyle Allen' 'Brandon Zylstra'\n",
            " 'Ray-Ray McCloud' 'Jordan Scarlett' 'DeAndrew White' 'Colin Jones'\n",
            " 'Donte Moncrief' 'Will Grier' 'Robby Anderson' 'Colin Thompson'\n",
            " 'Jeremy Chinn' 'Myles Hartsfield' 'Phillip Walker' 'Joseph Charlton'\n",
            " 'Rodney Smith' 'Marken Michel' 'Tommy Stevens' 'Terrace Marshall Jr.'\n",
            " 'Sam Darnold' 'Chuba Hubbard' 'Giovanni Ricci' 'Tommy Tremble'\n",
            " 'Shi Smith' 'P.J. Walker' 'Ameer Abdullah' 'Sean Chandler'\n",
            " 'C.J. Saunders' 'Stephen Sullivan' 'Russell Wilson' 'Chris Carson'\n",
            " 'Rashaad Penny' 'Jaron Brown' 'D.K. Metcalf' 'Tyler Lockett'\n",
            " 'Will Dissly' 'Nick Bellore' 'John Ursua' 'David Moore' 'Jacob Hollister'\n",
            " 'Tyrone Swoopes' 'Travis Homer' 'George Fant' 'Marshawn Lynch'\n",
            " 'Robert Turbin' 'Freddie Swain' 'Penny Hart' 'DeeJay Dallas'\n",
            " 'Colby Parkinson' 'Alex Collins' 'Geno Smith' \"D'Wayne Eskridge\"\n",
            " 'Tyler Mabry' 'Gerald Everett' 'Cody Thompson' 'Aaron Fuller'\n",
            " 'Jimmy Garoppolo' 'Raheem Mostert' 'Kendrick Bourne' 'Dante Pettis'\n",
            " 'Tevin Coleman' 'George Kittle' 'Richie James' 'Deebo Samuel'\n",
            " 'Kyle Juszczyk' 'Ross Dwelley' 'Levine Toilolo' 'Jeff Wilson'\n",
            " 'Jordan Matthews' 'Nick Mullens' 'Garrett Celek' 'Charlie Woerner'\n",
            " 'Jordan Reed' 'Brandon Aiyuk' 'Jamycal Hasty' 'C.J. Beathard'\n",
            " 'River Cracraft' 'Austin Walter' 'Daniel Helm' 'Trey Lance'\n",
            " 'Elijah Mitchell' 'Jauan Jennings' 'Trey Sermon' 'Jacques Patrick'\n",
            " 'Tanner Hudson' 'Trent Williams' 'Miles Sanders' 'Alshon Jeffery'\n",
            " 'DeSean Jackson' 'Carson Wentz' 'Darren Sproles' 'JJ Arcega-Whiteside'\n",
            " 'Dallas Goedert' 'Nelson Agholor' 'Alex Ellis' 'Josh McCown' 'Greg Ward'\n",
            " 'Boston Scott' 'Jake Elliott' 'Jay Ajayi' 'Joshua Perkins' 'Robert Davis'\n",
            " 'Richard Rodgers' 'Deontay Burnett' 'Shelton Gibson' 'Jalen Reagor'\n",
            " 'Jason Huntley' 'John Hightower' 'Jalen Hurts' 'Adrian Killins'\n",
            " 'Quez Watkins' 'Jason Croom' 'Hakeem Butler' 'Caleb Wilson'\n",
            " 'Nate Sudfeld' 'Kenneth Gainwell' 'DeVonta Smith' 'Jack Stoll'\n",
            " 'Gardner Minshew II' 'Tyree Jackson' 'Lane Johnson' 'Noah Togiai'\n",
            " 'Chad Beebe' 'Olabisi Johnson' 'Brandon Dillon' 'Kyle Rudolph' 'C.J. Ham'\n",
            " 'Mike Boone' 'Kirk Cousins' 'Dalvin Cook' 'Alexander Mattison'\n",
            " 'Adam Thielen' 'Irv Smith Jr.' 'Tyler Conklin' 'Sean Mannion'\n",
            " 'Josh Doctson' 'Alexander Hollins' 'Garrett Bradbury' 'Justin Jefferson'\n",
            " 'Jake Bargas' 'Dede Westbrook' 'K.J. Osborn' 'Ihmir Smith-Marsette'\n",
            " 'Chris Herndon' 'Ben Ellefson' 'Dan Chisena' 'Kene Nwangwu'\n",
            " 'Myron Mitchell' 'Kellen Mond' 'Marlon Mack' 'T.Y. Hilton' 'Deon Cain'\n",
            " 'Nyheim Hines' 'Parris Campbell' 'Eric Ebron' 'Mo Alie-Cox'\n",
            " 'Devin Funchess' 'Jack Doyle' 'Chester Rogers' 'Zach Pascal'\n",
            " 'Jordan Wilkins' 'Ashton Dulin' 'Brian Hoyer' 'Marcus Johnson'\n",
            " 'Quenton Nelson' 'Matt Lengel' 'Chad Williams' 'Jonathan Taylor'\n",
            " 'Michael Pittman Jr.' 'Farrod Green' \"De'Michael Harris\" 'Dezmon Patmon'\n",
            " 'Kylen Granson' 'Mike Strachan' 'Jacob Eason' 'Sam Ehlinger'\n",
            " 'Danny Pinter' 'Deon Jackson' 'Baker Mayfield' 'Nick Chubb'\n",
            " \"D'Ernest Johnson\" 'Jarvis Landry' 'Dontrell Hilliard' 'Damion Ratley'\n",
            " 'Odell Beckham Jr.' 'Rashard Higgins' 'David Njoku' 'Taywan Taylor'\n",
            " 'Stephen Carlson' 'Kareem Hunt' 'Wyatt Teller' 'Jamie Gillan'\n",
            " 'Harrison Bryant' 'Andy Janovich' 'Jojo Natson' 'Donovan Peoples-Jones'\n",
            " 'Case Keenum' 'Johnny Stanton' \"Ja'Marcus Bradley\" 'Kendall Lamm'\n",
            " 'Derrick Willies' 'Anthony Schwartz' 'Demetric Felton' 'Jordan Franks'\n",
            " 'John Kelly' 'Lawrence Cager' 'Miller Forristall' 'Aaron Rodgers'\n",
            " 'Aaron Jones' 'Marquez Valdes-Scantling' 'Davante Adams' 'Trevor Davis'\n",
            " 'Robert Tonyan' 'Marcedes Lewis' 'Danny Vitale' 'Allen Lazard'\n",
            " 'Darrius Shepherd' 'Dexter Williams' 'Jace Sternberger' 'Tyler Ervin'\n",
            " 'Josiah Deguara' 'AJ Dillon' 'Malik Taylor' 'John Lovett'\n",
            " 'Reggie Begelton' 'Equanimeous St. Brown' 'Juwann Winfree'\n",
            " 'Dominique Dafney' 'Jordan Love' 'Kylin Hill' 'Amari Rodgers'\n",
            " 'Tyler Davis' 'Patrick Taylor' 'Kurt Benkert' 'Ronald Jones II'\n",
            " 'Peyton Barber' 'Chris Godwin' 'Dare Ogunbowale' 'Justin Watson'\n",
            " 'T.J. Logan' 'Mike Evans' 'Breshad Perriman' 'Cameron Brate'\n",
            " 'O.J. Howard' 'Bobo Wilson' 'Scott Miller' 'Vita Vea' 'Ryan Griffin'\n",
            " 'Ishmael Hyman' 'Codey McElroy' 'Spencer Schnell' 'Cyril Grayson'\n",
            " 'Jaydon Mickens' 'John Franklin' 'Leonard Fournette' 'Rob Gronkowski'\n",
            " 'Tom Brady' 'Tyler Johnson' \"Ke'Shawn Vaughn\" 'Blaine Gabbert'\n",
            " 'Antonio Brown' 'Joe Haeg' 'Jaelon Darden' 'Marqise Lee' 'Keelan Cole'\n",
            " 'Ryquell Armstead' \"James O'Shaughnessy\" 'Geoff Swaim' 'DJ Chark'\n",
            " 'Ben Koyack' 'C.J. Board' 'Logan Cooke' 'Charles Jones' 'Michael Walker'\n",
            " 'Cody Davis' 'Jeremy McNichols' 'James Robinson' 'Laviska Shenault Jr.'\n",
            " 'Collin Johnson' 'Chris Thompson' 'Bruce Miller' 'Nathan Cottrell'\n",
            " 'Jake Luton' 'Terry Godwin' 'Mike Glennon' 'Trey Quinn' 'Luke Farrell'\n",
            " 'Trevor Lawrence' 'Josh Hammond' 'Andrew Wingard' 'Jeff Cotton'\n",
            " 'Mekhi Sargent' 'Gunner Olszewski' 'Brandon Bolden' 'Jakobi Meyers'\n",
            " 'Ryan Izzo' 'James Develin' 'Julian Edelman' 'Sony Michel' 'James White'\n",
            " 'Matt LaCosse' 'Matthew Slater' 'Jarrett Stidham' 'Jakob Johnson'\n",
            " 'Damien Harris' 'Ben Watson' \"N'Keal Harry\" 'Elandon Roberts'\n",
            " 'Devin Asiasi' 'J.J. Taylor' 'Isaiah Zuber' 'Dalton Keene'\n",
            " 'Kristian Wilkerson' 'Jonnu Smith' 'Rhamondre Stevenson' 'Mac Jones'\n",
            " 'Derek Carr' 'Josh Jacobs' 'Alec Ingold' 'JJ Nelson' 'Foster Moreau'\n",
            " 'Ryan Grant' 'Hunter Renfrow' 'Dwayne Harris' 'Darren Waller'\n",
            " 'Jalen Richard' 'Derek Carrier' 'Keelan Doss' 'Erik Harris'\n",
            " 'Marcell Ateman' 'Rico Gafford' 'Rod Smith' 'Devontae Booker'\n",
            " 'Henry Ruggs III' 'Bryan Edwards' 'Theo Riddick' 'Jeff Heath'\n",
            " 'Nathan Peterman' 'Marcus Mariota' 'AJ Cole III' 'Nick Bowers'\n",
            " 'Matt Bushman' 'Dillon Stoner' 'Sutton Smith' 'Trey Ragas'\n",
            " 'Dallin Leavitt' 'Robert Woods' 'Tyler Higbee' 'Cooper Kupp'\n",
            " 'Darrell Henderson' 'Johnny Mundt' 'Johnny Hekker' 'Nick Scott'\n",
            " 'Blake Bortles' 'David Long' 'Cam Akers' 'Van Jefferson' 'Brycen Hopkins'\n",
            " 'John Wolford' 'Tutu Atwell' 'Jake Funk' 'Ben Skowronek' 'Jacob Harris'\n",
            " 'Kendall Blanton' 'Landen Akers' 'Jeff Heuerman' 'Troy Fumagalli'\n",
            " 'Tim Patrick' 'Joe Flacco' 'Courtland Sutton' 'DaeSean Hamilton'\n",
            " 'Noah Fant' 'Andrew Beck' 'Diontae Spencer' 'Fred Brown' 'Colby Wadman'\n",
            " 'Drew Lock' 'Tyrie Cleveland' 'Jake Butt' 'Jerry Jeudy' 'KJ Hamler'\n",
            " 'Sam Martin' 'Brett Rypien' 'Albert Okwuegbunam' 'Jeremy Cox'\n",
            " 'Kendall Hinton' 'LeVante Bellamy' 'Javonte Williams' 'Damarea Crockett'\n",
            " 'Seth Williams' 'Cody Latimer' 'Sterling Shepard' 'Russell Shepard'\n",
            " 'Rhett Ellison' 'Eli Manning' 'Daniel Jones' 'Saquon Barkley'\n",
            " 'Elijhaa Penny' 'Evan Engram' 'T.J. Jones' 'Cody Core' 'Darius Slayton'\n",
            " 'Garrett Dickerson' 'Jon Hilliman' 'Golden Tate' 'Kaden Smith'\n",
            " 'Scott Simonson' 'Javorius Allen' \"Da'Mari Scott\" 'Alex Tanney'\n",
            " 'Dion Lewis' 'Austin Mack' 'Alex Bachman' 'Nick Gates' 'Riley Dixon'\n",
            " 'Gary Brightwell' 'Kadarius Toney' 'David Sills' 'Andrew Thomas'\n",
            " 'Keion Crossen' 'Jake Fromm' 'Diontae Johnson' 'Ryan Switzer'\n",
            " 'Xavier Grimble' 'Ben Roethlisberger' 'JuJu Smith-Schuster'\n",
            " 'James Washington' 'Vance McDonald' 'Johnny Holton' 'Mason Rudolph'\n",
            " 'Benny Snell Jr.' 'Zach Gentry' 'Devlin Hodges' 'Roosevelt Nix'\n",
            " 'Trey Edmunds' 'Tevin Jones' 'Kerrith Whyte Jr' 'Jordan Berry'\n",
            " 'Chase Claypool' 'Anthony McFarland Jr.' 'Jerald Hawkins' 'Kevin Rader'\n",
            " 'Joshua Dobbs' 'Najee Harris' 'Pat Freiermuth' 'Cody White'\n",
            " 'Chris Boswell' 'Steven Sims' 'Trevon Wesco' 'Daniel Brown'\n",
            " 'Josh Bellamy' 'Jamison Crowder' 'Quincy Enunwa' 'Luke Falk'\n",
            " 'Demaryius Thomas' 'Braxton Berrios' 'Bilal Powell' 'David Fales'\n",
            " 'Vyncint Smith' 'Josh Adams' 'Jeff Smith' 'Josh Malone' \"La'Mical Perine\"\n",
            " 'Denzel Mims' 'Elijah Moore' 'Zach Wilson' 'Corey Davis' 'Michael Carter'\n",
            " 'Mike White' 'Kenny Yeboah' 'D.J. Montgomery' 'Braden Mann'\n",
            " 'Conor McDermott' 'Tarik Black']\n"
          ]
        }
      ],
      "source": [
        "# Get all player names\n",
        "\n",
        "unique_players = combined_data['Player'].unique()\n",
        "\n",
        "pd.set_option('display.max_rows', None)\n",
        "\n",
        "print(unique_players)\n",
        "\n",
        "pd.reset_option('display.max_rows')\n"
      ]
    },
    {
      "cell_type": "code",
      "execution_count": 9,
      "metadata": {
        "colab": {
          "base_uri": "https://localhost:8080/"
        },
        "id": "QAp8rJcN33H2",
        "outputId": "d3e7dc62-19d5-4760-a673-f89ff9a779b0"
      },
      "outputs": [
        {
          "name": "stdout",
          "output_type": "stream",
          "text": [
            "DeVonta Smith's weight: 0.99\n"
          ]
        }
      ],
      "source": [
        "# Sample mapping of player names to their corresponding weights\n",
        "player_weights = {\n",
        "    'DeVonta Smith': 0.99,\n",
        "    'Demarcus Lawrence': 0.98,\n",
        "    'Tristan Wirfs': 0.97,\n",
        "    'Harrison Smith': 0.96,\n",
        "    'Trevor Lawrence': 0.95,\n",
        "    'Jamaal Williams': 0.94,\n",
        "    'Terry McLaurin': 0.93,\n",
        "    'Eric Kendricks': 0.92,\n",
        "    'Marlon Humphrey': 0.91,\n",
        "    'Dalvin Cook': 0.90,\n",
        "    'Deandre Hopkins': 0.89,\n",
        "    'Marshon Lattimore': 0.88,\n",
        "    'Aidan Hutchinson': 0.87,\n",
        "    'Chris Lindstrom': 0.86,\n",
        "    'Justin Fields': 0.85,\n",
        "    'Laremy Tunsil': 0.84,\n",
        "    'Za\\'Darius Smith': 0.83,\n",
        "    'Terron Armstead': 0.82,\n",
        "    'Tua Tagovailoa': 0.81,\n",
        "    'Christian Wilkins': 0.80,\n",
        "    'Mark Andrews': 0.79,\n",
        "    'Dre Greenlaw': 0.78,\n",
        "    'Talanoa Hufanga': 0.77,\n",
        "    'Geno Smith': 0.76,\n",
        "    'Tariq Woolen': 0.75,\n",
        "    'Trey Hendrickson': 0.74,\n",
        "    'Garrett Wilson': 0.73,\n",
        "    'Budda Baker': 0.72,\n",
        "    'Lamar Jackson': 0.71,\n",
        "    'DeForest Buckner': 0.70,\n",
        "    'Joey Bosa': 0.69,\n",
        "    'Matt Milano': 0.68,\n",
        "    'Zack Martin': 0.67,\n",
        "    'Amon-Ra St. Brown': 0.66,\n",
        "    'Jared Goff': 0.65,\n",
        "    'Darius Slay': 0.64,\n",
        "    'Aaron Jones': 0.63,\n",
        "    'Grady Jarrett': 0.62,\n",
        "    'Bobby Wagner': 0.61,\n",
        "    'Deebo Samuel': 0.60,\n",
        "}\n",
        "\n",
        "# access the performance weight of each player by their name.\n",
        "# For example, to get the weight of DeVonta Smith:\n",
        "devonta_smith_weight = player_weights['DeVonta Smith']\n",
        "print(f\"DeVonta Smith's weight: {devonta_smith_weight}\")\n",
        "\n",
        "\n",
        "# Add player weights to combined_data\n",
        "combined_data['player_weight'] = combined_data['Player'].map(player_weights)\n"
      ]
    },
    {
      "cell_type": "code",
      "execution_count": 10,
      "metadata": {
        "colab": {
          "base_uri": "https://localhost:8080/"
        },
        "id": "SSTlQ4J5LU2M",
        "outputId": "045018a2-46fd-414b-d568-fac4393fc71d"
      },
      "outputs": [
        {
          "name": "stdout",
          "output_type": "stream",
          "text": [
            "Budda Baker's weight: 0.72\n"
          ]
        }
      ],
      "source": [
        "budda_baker_weight = player_weights['Budda Baker']\n",
        "print(f\"Budda Baker's weight: {budda_baker_weight}\")\n"
      ]
    },
    {
      "cell_type": "code",
      "execution_count": 11,
      "metadata": {
        "colab": {
          "base_uri": "https://localhost:8080/"
        },
        "id": "cMLE6mim33H4",
        "outputId": "a0ac9c27-33bd-4231-c1c2-fc4042c0d686"
      },
      "outputs": [
        {
          "name": "stdout",
          "output_type": "stream",
          "text": [
            "                 Player  player_weight\n",
            "0            Drew Brees            0.5\n",
            "1          Alvin Kamara            0.5\n",
            "2       Latavius Murray            0.5\n",
            "3           Taysom Hill            0.5\n",
            "4        Michael Thomas            0.5\n",
            "...                 ...            ...\n",
            "158538      Tyler Kroft            0.5\n",
            "158539       Jeff Smith            0.5\n",
            "158540      Denzel Mims            0.5\n",
            "158541       Ty Johnson            0.5\n",
            "158542     Kenny Yeboah            0.5\n",
            "\n",
            "[158543 rows x 2 columns]\n"
          ]
        }
      ],
      "source": [
        "default_weight = 0.5\n",
        "\n",
        "combined_data['player_weight'] = combined_data['Player'].map(player_weights).fillna(default_weight)\n",
        "\n",
        "print(combined_data[['Player', 'player_weight']])\n"
      ]
    },
    {
      "cell_type": "code",
      "execution_count": null,
      "metadata": {
        "id": "lAxG8pZt33H4"
      },
      "outputs": [],
      "source": [
        "#lebron_weight = combined_data.loc[combined_data['Player'] == 'LeBron James', 'player_weight'].values[0]\n",
        "#steph_weight = combined_data.loc[combined_data['Player'] == 'Stephen Curry', 'player_weight'].values[0]\n",
        "\n",
        "#print(lebron_weight)\n",
        "#print(steph_weight)\n"
      ]
    },
    {
      "cell_type": "code",
      "execution_count": 12,
      "metadata": {
        "colab": {
          "base_uri": "https://localhost:8080/"
        },
        "id": "WhQOJksJ33H5",
        "outputId": "3ac0e4d2-7f37-4a7b-a5de-6de4875828e9"
      },
      "outputs": [
        {
          "name": "stdout",
          "output_type": "stream",
          "text": [
            "         date team team_opp  points_scored  points_scored_opp  yards_gained  \\\n",
            "0  2020-09-14   NO       TB         23.324               41.0        417.75   \n",
            "1  2020-09-14   NO       TB         23.324               41.0        417.75   \n",
            "2  2020-09-14   NO       TB         23.324               41.0        417.75   \n",
            "3  2020-09-14   NO       TB         23.324               41.0        417.75   \n",
            "4  2020-09-14   NO       TB         23.324               41.0        417.75   \n",
            "\n",
            "   yards_gained_opp  turnovers  turnovers_opp    won  ... Pass TD Pass Int  \\\n",
            "0            77.979        0.0            3.0  False  ...       2        1   \n",
            "1            77.979        0.0            3.0  False  ...       0        0   \n",
            "2            77.979        0.0            3.0  False  ...       0        0   \n",
            "3            77.979        0.0            3.0  False  ...       0        0   \n",
            "4            77.979        0.0            3.0  False  ...       0        0   \n",
            "\n",
            "  Rush Att  Rush Yds  Rush TD  Receptions  Rec Yds  Rec TD  Game Date  \\\n",
            "0        0         0        0           0        0       0   9/9/2019   \n",
            "1       13        97        0           7       72       0   9/9/2019   \n",
            "2        6        43        1           2        4       0   9/9/2019   \n",
            "3        2         8        0           1        9       1   9/9/2019   \n",
            "4        0         0        0          10      123       0   9/9/2019   \n",
            "\n",
            "   player_weight  \n",
            "0            0.5  \n",
            "1            0.5  \n",
            "2            0.5  \n",
            "3            0.5  \n",
            "4            0.5  \n",
            "\n",
            "[5 rows x 26 columns]\n"
          ]
        }
      ],
      "source": [
        "team_weights = {\n",
        "  'points_scored': 0.833,\n",
        "  'points_scored_opp': 1.0,\n",
        "  'yards_gained': 0.667,\n",
        "  'yards_gained_opp': 0.417,\n",
        "  'turnovers': 1.0,\n",
        "  'turnovers_opp': 0.917,\n",
        "  'turnovers_opp': 0.75,\n",
        "  'yards_gained': 0.75\n",
        "}\n",
        "\n",
        "\n",
        "for col, weight in team_weights.items():\n",
        "  combined_data[col] = combined_data[col] * weight\n",
        "\n",
        "print(combined_data.head())\n"
      ]
    },
    {
      "cell_type": "code",
      "execution_count": 13,
      "metadata": {
        "colab": {
          "base_uri": "https://localhost:8080/"
        },
        "id": "k0U9r9F633H5",
        "outputId": "f250f9a7-7df2-4adf-bd07-245654bf5778"
      },
      "outputs": [
        {
          "name": "stdout",
          "output_type": "stream",
          "text": [
            "0         False\n",
            "1         False\n",
            "2         False\n",
            "3         False\n",
            "4         False\n",
            "          ...  \n",
            "158538    False\n",
            "158539    False\n",
            "158540    False\n",
            "158541    False\n",
            "158542    False\n",
            "Name: won, Length: 158543, dtype: bool\n"
          ]
        }
      ],
      "source": [
        "print(combined_data['won'])\n"
      ]
    },
    {
      "cell_type": "code",
      "execution_count": 14,
      "metadata": {
        "id": "W31n8VLB33H6"
      },
      "outputs": [],
      "source": [
        "combined_data['won'] = combined_data['won'].astype(int)\n"
      ]
    },
    {
      "cell_type": "code",
      "execution_count": 17,
      "metadata": {
        "colab": {
          "base_uri": "https://localhost:8080/"
        },
        "id": "GT3gRXIE33H6",
        "outputId": "b1de0a4a-4913-4f40-8457-57c21819b15e"
      },
      "outputs": [
        {
          "name": "stdout",
          "output_type": "stream",
          "text": [
            "0         0\n",
            "1         0\n",
            "2         0\n",
            "3         0\n",
            "4         0\n",
            "         ..\n",
            "158538    0\n",
            "158539    0\n",
            "158540    0\n",
            "158541    0\n",
            "158542    0\n",
            "Name: won, Length: 158543, dtype: int64\n"
          ]
        }
      ],
      "source": [
        "print(combined_data['won'])\n"
      ]
    },
    {
      "cell_type": "code",
      "execution_count": 18,
      "metadata": {
        "colab": {
          "base_uri": "https://localhost:8080/"
        },
        "id": "rzUNpuIx33H6",
        "outputId": "fd15b510-dcee-4bbb-b04f-1bd39c7c4fab"
      },
      "outputs": [
        {
          "name": "stdout",
          "output_type": "stream",
          "text": [
            "0         0\n",
            "1         0\n",
            "2         0\n",
            "3         0\n",
            "4         0\n",
            "         ..\n",
            "158538    0\n",
            "158539    0\n",
            "158540    0\n",
            "158541    0\n",
            "158542    0\n",
            "Name: won, Length: 158543, dtype: int64\n"
          ]
        }
      ],
      "source": [
        "print(combined_data['won'])\n",
        "\n",
        "# Create a copy of the combined_data DataFrame\n",
        "combined_data_copy = combined_data.copy()\n",
        "\n",
        "# Save the copy to a JSON file\n",
        "combined_data_copy.to_json('combined_data_copy.json', orient='records')\n"
      ]
    },
    {
      "cell_type": "markdown",
      "metadata": {
        "id": "5ma9rdle33H7"
      },
      "source": [
        "# Neural Network Feedforward Functional API"
      ]
    },
    {
      "cell_type": "code",
      "execution_count": 19,
      "metadata": {
        "colab": {
          "base_uri": "https://localhost:8080/"
        },
        "id": "OvHAA4L033H7",
        "outputId": "19b4d602-aac5-4a23-e8dc-11a86c8f4d95"
      },
      "outputs": [
        {
          "name": "stderr",
          "output_type": "stream",
          "text": [
            "2024-03-25 01:47:47.532139: I tensorflow/core/platform/cpu_feature_guard.cc:210] This TensorFlow binary is optimized to use available CPU instructions in performance-critical operations.\n",
            "To enable the following instructions: AVX2 FMA, in other operations, rebuild TensorFlow with the appropriate compiler flags.\n"
          ]
        },
        {
          "data": {
            "text/html": [
              "<pre style=\"white-space:pre;overflow-x:auto;line-height:normal;font-family:Menlo,'DejaVu Sans Mono',consolas,'Courier New',monospace\"><span style=\"font-weight: bold\">Model: \"functional_1\"</span>\n",
              "</pre>\n"
            ],
            "text/plain": [
              "\u001b[1mModel: \"functional_1\"\u001b[0m\n"
            ]
          },
          "metadata": {},
          "output_type": "display_data"
        },
        {
          "data": {
            "text/html": [
              "<pre style=\"white-space:pre;overflow-x:auto;line-height:normal;font-family:Menlo,'DejaVu Sans Mono',consolas,'Courier New',monospace\">┏━━━━━━━━━━━━━━━━━━━━━┳━━━━━━━━━━━━━━━━━━━┳━━━━━━━━━━━━┳━━━━━━━━━━━━━━━━━━━┓\n",
              "┃<span style=\"font-weight: bold\"> Layer (type)        </span>┃<span style=\"font-weight: bold\"> Output Shape      </span>┃<span style=\"font-weight: bold\">    Param # </span>┃<span style=\"font-weight: bold\"> Connected to      </span>┃\n",
              "┡━━━━━━━━━━━━━━━━━━━━━╇━━━━━━━━━━━━━━━━━━━╇━━━━━━━━━━━━╇━━━━━━━━━━━━━━━━━━━┩\n",
              "│ input_layer         │ (<span style=\"color: #00d7ff; text-decoration-color: #00d7ff\">None</span>, <span style=\"color: #00af00; text-decoration-color: #00af00\">9</span>)         │          <span style=\"color: #00af00; text-decoration-color: #00af00\">0</span> │ -                 │\n",
              "│ (<span style=\"color: #0087ff; text-decoration-color: #0087ff\">InputLayer</span>)        │                   │            │                   │\n",
              "├─────────────────────┼───────────────────┼────────────┼───────────────────┤\n",
              "│ dense (<span style=\"color: #0087ff; text-decoration-color: #0087ff\">Dense</span>)       │ (<span style=\"color: #00d7ff; text-decoration-color: #00d7ff\">None</span>, <span style=\"color: #00af00; text-decoration-color: #00af00\">128</span>)       │      <span style=\"color: #00af00; text-decoration-color: #00af00\">1,280</span> │ input_layer[<span style=\"color: #00af00; text-decoration-color: #00af00\">0</span>][<span style=\"color: #00af00; text-decoration-color: #00af00\">0</span>] │\n",
              "├─────────────────────┼───────────────────┼────────────┼───────────────────┤\n",
              "│ dropout (<span style=\"color: #0087ff; text-decoration-color: #0087ff\">Dropout</span>)   │ (<span style=\"color: #00d7ff; text-decoration-color: #00d7ff\">None</span>, <span style=\"color: #00af00; text-decoration-color: #00af00\">128</span>)       │          <span style=\"color: #00af00; text-decoration-color: #00af00\">0</span> │ dense[<span style=\"color: #00af00; text-decoration-color: #00af00\">0</span>][<span style=\"color: #00af00; text-decoration-color: #00af00\">0</span>]       │\n",
              "├─────────────────────┼───────────────────┼────────────┼───────────────────┤\n",
              "│ dense_1 (<span style=\"color: #0087ff; text-decoration-color: #0087ff\">Dense</span>)     │ (<span style=\"color: #00d7ff; text-decoration-color: #00d7ff\">None</span>, <span style=\"color: #00af00; text-decoration-color: #00af00\">64</span>)        │      <span style=\"color: #00af00; text-decoration-color: #00af00\">8,256</span> │ dropout[<span style=\"color: #00af00; text-decoration-color: #00af00\">0</span>][<span style=\"color: #00af00; text-decoration-color: #00af00\">0</span>]     │\n",
              "├─────────────────────┼───────────────────┼────────────┼───────────────────┤\n",
              "│ dropout_1 (<span style=\"color: #0087ff; text-decoration-color: #0087ff\">Dropout</span>) │ (<span style=\"color: #00d7ff; text-decoration-color: #00d7ff\">None</span>, <span style=\"color: #00af00; text-decoration-color: #00af00\">64</span>)        │          <span style=\"color: #00af00; text-decoration-color: #00af00\">0</span> │ dense_1[<span style=\"color: #00af00; text-decoration-color: #00af00\">0</span>][<span style=\"color: #00af00; text-decoration-color: #00af00\">0</span>]     │\n",
              "├─────────────────────┼───────────────────┼────────────┼───────────────────┤\n",
              "│ dense_2 (<span style=\"color: #0087ff; text-decoration-color: #0087ff\">Dense</span>)     │ (<span style=\"color: #00d7ff; text-decoration-color: #00d7ff\">None</span>, <span style=\"color: #00af00; text-decoration-color: #00af00\">32</span>)        │      <span style=\"color: #00af00; text-decoration-color: #00af00\">2,080</span> │ dropout_1[<span style=\"color: #00af00; text-decoration-color: #00af00\">0</span>][<span style=\"color: #00af00; text-decoration-color: #00af00\">0</span>]   │\n",
              "├─────────────────────┼───────────────────┼────────────┼───────────────────┤\n",
              "│ input_layer_1       │ (<span style=\"color: #00d7ff; text-decoration-color: #00d7ff\">None</span>, <span style=\"color: #00af00; text-decoration-color: #00af00\">1</span>)         │          <span style=\"color: #00af00; text-decoration-color: #00af00\">0</span> │ -                 │\n",
              "│ (<span style=\"color: #0087ff; text-decoration-color: #0087ff\">InputLayer</span>)        │                   │            │                   │\n",
              "├─────────────────────┼───────────────────┼────────────┼───────────────────┤\n",
              "│ concatenate         │ (<span style=\"color: #00d7ff; text-decoration-color: #00d7ff\">None</span>, <span style=\"color: #00af00; text-decoration-color: #00af00\">33</span>)        │          <span style=\"color: #00af00; text-decoration-color: #00af00\">0</span> │ dense_2[<span style=\"color: #00af00; text-decoration-color: #00af00\">0</span>][<span style=\"color: #00af00; text-decoration-color: #00af00\">0</span>],    │\n",
              "│ (<span style=\"color: #0087ff; text-decoration-color: #0087ff\">Concatenate</span>)       │                   │            │ input_layer_1[<span style=\"color: #00af00; text-decoration-color: #00af00\">0</span>]… │\n",
              "├─────────────────────┼───────────────────┼────────────┼───────────────────┤\n",
              "│ dense_3 (<span style=\"color: #0087ff; text-decoration-color: #0087ff\">Dense</span>)     │ (<span style=\"color: #00d7ff; text-decoration-color: #00d7ff\">None</span>, <span style=\"color: #00af00; text-decoration-color: #00af00\">1</span>)         │         <span style=\"color: #00af00; text-decoration-color: #00af00\">34</span> │ concatenate[<span style=\"color: #00af00; text-decoration-color: #00af00\">0</span>][<span style=\"color: #00af00; text-decoration-color: #00af00\">0</span>] │\n",
              "└─────────────────────┴───────────────────┴────────────┴───────────────────┘\n",
              "</pre>\n"
            ],
            "text/plain": [
              "┏━━━━━━━━━━━━━━━━━━━━━┳━━━━━━━━━━━━━━━━━━━┳━━━━━━━━━━━━┳━━━━━━━━━━━━━━━━━━━┓\n",
              "┃\u001b[1m \u001b[0m\u001b[1mLayer (type)       \u001b[0m\u001b[1m \u001b[0m┃\u001b[1m \u001b[0m\u001b[1mOutput Shape     \u001b[0m\u001b[1m \u001b[0m┃\u001b[1m \u001b[0m\u001b[1m   Param #\u001b[0m\u001b[1m \u001b[0m┃\u001b[1m \u001b[0m\u001b[1mConnected to     \u001b[0m\u001b[1m \u001b[0m┃\n",
              "┡━━━━━━━━━━━━━━━━━━━━━╇━━━━━━━━━━━━━━━━━━━╇━━━━━━━━━━━━╇━━━━━━━━━━━━━━━━━━━┩\n",
              "│ input_layer         │ (\u001b[38;5;45mNone\u001b[0m, \u001b[38;5;34m9\u001b[0m)         │          \u001b[38;5;34m0\u001b[0m │ -                 │\n",
              "│ (\u001b[38;5;33mInputLayer\u001b[0m)        │                   │            │                   │\n",
              "├─────────────────────┼───────────────────┼────────────┼───────────────────┤\n",
              "│ dense (\u001b[38;5;33mDense\u001b[0m)       │ (\u001b[38;5;45mNone\u001b[0m, \u001b[38;5;34m128\u001b[0m)       │      \u001b[38;5;34m1,280\u001b[0m │ input_layer[\u001b[38;5;34m0\u001b[0m][\u001b[38;5;34m0\u001b[0m] │\n",
              "├─────────────────────┼───────────────────┼────────────┼───────────────────┤\n",
              "│ dropout (\u001b[38;5;33mDropout\u001b[0m)   │ (\u001b[38;5;45mNone\u001b[0m, \u001b[38;5;34m128\u001b[0m)       │          \u001b[38;5;34m0\u001b[0m │ dense[\u001b[38;5;34m0\u001b[0m][\u001b[38;5;34m0\u001b[0m]       │\n",
              "├─────────────────────┼───────────────────┼────────────┼───────────────────┤\n",
              "│ dense_1 (\u001b[38;5;33mDense\u001b[0m)     │ (\u001b[38;5;45mNone\u001b[0m, \u001b[38;5;34m64\u001b[0m)        │      \u001b[38;5;34m8,256\u001b[0m │ dropout[\u001b[38;5;34m0\u001b[0m][\u001b[38;5;34m0\u001b[0m]     │\n",
              "├─────────────────────┼───────────────────┼────────────┼───────────────────┤\n",
              "│ dropout_1 (\u001b[38;5;33mDropout\u001b[0m) │ (\u001b[38;5;45mNone\u001b[0m, \u001b[38;5;34m64\u001b[0m)        │          \u001b[38;5;34m0\u001b[0m │ dense_1[\u001b[38;5;34m0\u001b[0m][\u001b[38;5;34m0\u001b[0m]     │\n",
              "├─────────────────────┼───────────────────┼────────────┼───────────────────┤\n",
              "│ dense_2 (\u001b[38;5;33mDense\u001b[0m)     │ (\u001b[38;5;45mNone\u001b[0m, \u001b[38;5;34m32\u001b[0m)        │      \u001b[38;5;34m2,080\u001b[0m │ dropout_1[\u001b[38;5;34m0\u001b[0m][\u001b[38;5;34m0\u001b[0m]   │\n",
              "├─────────────────────┼───────────────────┼────────────┼───────────────────┤\n",
              "│ input_layer_1       │ (\u001b[38;5;45mNone\u001b[0m, \u001b[38;5;34m1\u001b[0m)         │          \u001b[38;5;34m0\u001b[0m │ -                 │\n",
              "│ (\u001b[38;5;33mInputLayer\u001b[0m)        │                   │            │                   │\n",
              "├─────────────────────┼───────────────────┼────────────┼───────────────────┤\n",
              "│ concatenate         │ (\u001b[38;5;45mNone\u001b[0m, \u001b[38;5;34m33\u001b[0m)        │          \u001b[38;5;34m0\u001b[0m │ dense_2[\u001b[38;5;34m0\u001b[0m][\u001b[38;5;34m0\u001b[0m],    │\n",
              "│ (\u001b[38;5;33mConcatenate\u001b[0m)       │                   │            │ input_layer_1[\u001b[38;5;34m0\u001b[0m]… │\n",
              "├─────────────────────┼───────────────────┼────────────┼───────────────────┤\n",
              "│ dense_3 (\u001b[38;5;33mDense\u001b[0m)     │ (\u001b[38;5;45mNone\u001b[0m, \u001b[38;5;34m1\u001b[0m)         │         \u001b[38;5;34m34\u001b[0m │ concatenate[\u001b[38;5;34m0\u001b[0m][\u001b[38;5;34m0\u001b[0m] │\n",
              "└─────────────────────┴───────────────────┴────────────┴───────────────────┘\n"
            ]
          },
          "metadata": {},
          "output_type": "display_data"
        },
        {
          "data": {
            "text/html": [
              "<pre style=\"white-space:pre;overflow-x:auto;line-height:normal;font-family:Menlo,'DejaVu Sans Mono',consolas,'Courier New',monospace\"><span style=\"font-weight: bold\"> Total params: </span><span style=\"color: #00af00; text-decoration-color: #00af00\">11,650</span> (45.51 KB)\n",
              "</pre>\n"
            ],
            "text/plain": [
              "\u001b[1m Total params: \u001b[0m\u001b[38;5;34m11,650\u001b[0m (45.51 KB)\n"
            ]
          },
          "metadata": {},
          "output_type": "display_data"
        },
        {
          "data": {
            "text/html": [
              "<pre style=\"white-space:pre;overflow-x:auto;line-height:normal;font-family:Menlo,'DejaVu Sans Mono',consolas,'Courier New',monospace\"><span style=\"font-weight: bold\"> Trainable params: </span><span style=\"color: #00af00; text-decoration-color: #00af00\">11,650</span> (45.51 KB)\n",
              "</pre>\n"
            ],
            "text/plain": [
              "\u001b[1m Trainable params: \u001b[0m\u001b[38;5;34m11,650\u001b[0m (45.51 KB)\n"
            ]
          },
          "metadata": {},
          "output_type": "display_data"
        },
        {
          "data": {
            "text/html": [
              "<pre style=\"white-space:pre;overflow-x:auto;line-height:normal;font-family:Menlo,'DejaVu Sans Mono',consolas,'Courier New',monospace\"><span style=\"font-weight: bold\"> Non-trainable params: </span><span style=\"color: #00af00; text-decoration-color: #00af00\">0</span> (0.00 B)\n",
              "</pre>\n"
            ],
            "text/plain": [
              "\u001b[1m Non-trainable params: \u001b[0m\u001b[38;5;34m0\u001b[0m (0.00 B)\n"
            ]
          },
          "metadata": {},
          "output_type": "display_data"
        },
        {
          "name": "stdout",
          "output_type": "stream",
          "text": [
            "\u001b[1m31709/31709\u001b[0m \u001b[32m━━━━━━━━━━━━━━━━━━━━\u001b[0m\u001b[37m\u001b[0m \u001b[1m35s\u001b[0m 1ms/step - accuracy: 0.8994 - loss: 1.0658 - val_accuracy: 0.9687 - val_loss: 0.1894\n"
          ]
        },
        {
          "data": {
            "text/plain": [
              "<keras.src.callbacks.history.History at 0x171f3d590>"
            ]
          },
          "execution_count": 19,
          "metadata": {},
          "output_type": "execute_result"
        }
      ],
      "source": [
        "import tensorflow as tf\n",
        "from sklearn.model_selection import train_test_split\n",
        "from sklearn.preprocessing import StandardScaler\n",
        "from tensorflow.keras import regularizers\n",
        "\n",
        "# Extract features and target variable\n",
        "X = combined_data[['points_scored', 'points_scored_opp', 'yards_gained', 'yards_gained_opp', 'turnovers', 'turnovers_opp', 'turnovers_opp', 'yards_gained', 'player_weight']]\n",
        "y = combined_data['won']  # Use the 'won' column as the target variable\n",
        "\n",
        "# Split the data into training and testing sets (80/20 split)\n",
        "X_train, X_test, y_train, y_test = train_test_split(X, y, test_size=0.2, random_state=42)\n",
        "\n",
        "# Data preprocessing\n",
        "scaler = StandardScaler()\n",
        "X_train_scaled = scaler.fit_transform(X_train)  # Scale the features\n",
        "X_test_scaled = scaler.transform(X_test)\n",
        "\n",
        "# Define the model architecture using the Functional API\n",
        "num_features = X_train_scaled.shape[1]\n",
        "\n",
        "input_layer = tf.keras.layers.Input(shape=(num_features,))\n",
        "hidden1 = tf.keras.layers.Dense(128, activation='relu', kernel_regularizer=regularizers.l2(0.5))(input_layer)\n",
        "dropout1 = tf.keras.layers.Dropout(0.50)(hidden1)\n",
        "hidden2 = tf.keras.layers.Dense(64, activation='relu')(dropout1)\n",
        "dropout2 = tf.keras.layers.Dropout(0.5)(hidden2)\n",
        "hidden3 = tf.keras.layers.Dense(32, activation='relu', kernel_regularizer=regularizers.l2(0.9))(dropout2)\n",
        "player_weight_input = tf.keras.layers.Input(shape=(1,))\n",
        "merged = tf.keras.layers.Concatenate()([hidden3, player_weight_input])\n",
        "\n",
        "#adjustment_layer = tf.keras.layers.Dense(39, activation='relu')(merged)  # adjusting for 39 features if needed\n",
        "\n",
        "#output_layer = tf.keras.layers.Dense(1, activation='sigmoid')(adjustment_layer)\n",
        "\n",
        "output_layer = tf.keras.layers.Dense(1, activation='sigmoid')(merged)\n",
        "\n",
        "model = tf.keras.models.Model(inputs=[input_layer, player_weight_input], outputs=output_layer)\n",
        "model.compile(optimizer='adam', loss='binary_crossentropy', metrics=['accuracy'])\n",
        "model.summary()\n",
        "\n",
        "# Train the model\n",
        "model.fit([X_train_scaled, X_train['player_weight']], y_train,\n",
        "          epochs=1, batch_size=4,\n",
        "          validation_data=([X_test_scaled, X_test['player_weight']], y_test))\n",
        "\n",
        "# Prediction\n",
        "# For new predictions, you would preprocess the new data (let's call it new_data) in the same way as X_train\n",
        "# Example:\n",
        "# new_data_scaled = scaler.transform(new_data_features)\n",
        "# predictions = model.predict([new_data_scaled, new_data_player_weight])\n"
      ]
    },
    {
      "cell_type": "code",
      "execution_count": null,
      "metadata": {
        "id": "b1H_iNiI33H8"
      },
      "outputs": [],
      "source": [
        "import numpy as np\n"
      ]
    },
    {
      "cell_type": "code",
      "execution_count": null,
      "metadata": {
        "colab": {
          "base_uri": "https://localhost:8080/"
        },
        "id": "8J5zEomTCLS6",
        "outputId": "c84282a9-dd6c-4d4f-9a68-05c8a78ba27f"
      },
      "outputs": [
        {
          "name": "stdout",
          "output_type": "stream",
          "text": [
            "Enter team one: SF\n",
            "Enter team two: WAS\n",
            "1/1 [==============================] - 0s 21ms/step\n",
            "1/1 [==============================] - 0s 20ms/step\n",
            "SF is predicted to win\n"
          ]
        },
        {
          "name": "stderr",
          "output_type": "stream",
          "text": [
            "/usr/local/lib/python3.10/dist-packages/sklearn/base.py:439: UserWarning: X does not have valid feature names, but StandardScaler was fitted with feature names\n",
            "  warnings.warn(\n",
            "/usr/local/lib/python3.10/dist-packages/sklearn/base.py:439: UserWarning: X does not have valid feature names, but StandardScaler was fitted with feature names\n",
            "  warnings.warn(\n"
          ]
        }
      ],
      "source": [
        "# Function to retrieve team data\n",
        "def get_team_data(team_name, combined_data):\n",
        "    # Filter the DataFrame for rows matching the team name\n",
        "    team_data_filtered = combined_data[(combined_data['team'] == team_name) | (combined_data['team_opp'] == team_name)]\n",
        "\n",
        "    if team_data_filtered.empty:\n",
        "        raise ValueError(f\"No data found for team: {team_name}\")\n",
        "\n",
        "    numeric_columns = ['points_scored', 'points_scored_opp', 'yards_gained', 'yards_gained_opp',\n",
        "                       'turnovers', 'turnovers_opp', 'turnovers_opp', 'yards_gained', 'player_weight']\n",
        "\n",
        "    team_data_numeric = team_data_filtered[numeric_columns]\n",
        "    team_data_mean = team_data_numeric.mean()\n",
        "    average_player_weight = combined_data[combined_data['Tm'] == team_name]['player_weight'].mean()\n",
        "    return team_data_mean, average_player_weight\n",
        "\n",
        "# Function to predict game outcome\n",
        "def predict_game_outcome(team1_name, team2_name, combined_data, scaler, model):\n",
        "    team1_data, team1_player_weight = get_team_data(team1_name, combined_data)\n",
        "    team2_data, team2_player_weight = get_team_data(team2_name, combined_data)\n",
        "\n",
        "    # Prepare features for scaling\n",
        "    features_team1 = np.array([team1_data])\n",
        "    features_team2 = np.array([team2_data])\n",
        "\n",
        "    # Scale features\n",
        "    features_team1_scaled = scaler.transform(features_team1)\n",
        "    features_team2_scaled = scaler.transform(features_team2)\n",
        "\n",
        "    # Reshape player weight for input\n",
        "    team1_weight = np.array([[team1_player_weight]])\n",
        "    team2_weight = np.array([[team2_player_weight]])\n",
        "\n",
        "    # Predict using the model\n",
        "    prediction_team1 = model.predict([features_team1_scaled, team1_weight])\n",
        "    prediction_team2 = model.predict([features_team2_scaled, team2_weight])\n",
        "\n",
        "    # Interpret the prediction\n",
        "    if prediction_team1[0] > 0.5:\n",
        "        winner = team1_name\n",
        "    else:\n",
        "        winner = team2_name\n",
        "\n",
        "    return f\"{winner} is predicted to win\"\n",
        "\n",
        "# Example usage\n",
        "team1 = input(\"Enter team one: \")\n",
        "team2 = input(\"Enter team two: \")\n",
        "# testing with 2 teams nfl\n",
        "prediction = predict_game_outcome(team1, team2, combined_data, scaler, model)\n",
        "print(prediction)\n"
      ]
    }
  ],
  "metadata": {
    "colab": {
      "provenance": []
    },
    "kernelspec": {
      "display_name": "test",
      "language": "python",
      "name": "python3"
    },
    "language_info": {
      "codemirror_mode": {
        "name": "ipython",
        "version": 3
      },
      "file_extension": ".py",
      "mimetype": "text/x-python",
      "name": "python",
      "nbconvert_exporter": "python",
      "pygments_lexer": "ipython3",
      "version": "3.11.5"
    }
  },
  "nbformat": 4,
  "nbformat_minor": 0
}
